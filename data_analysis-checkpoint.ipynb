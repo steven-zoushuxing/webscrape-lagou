{
 "cells": [
  {
   "cell_type": "code",
   "execution_count": 1,
   "id": "07486de6",
   "metadata": {},
   "outputs": [],
   "source": [
    "import numpy as np\n",
    "import pandas as pd\n",
    "import matplotlib.pyplot as plt\n",
    "import seaborn as sns\n",
    "%matplotlib inline\n",
    "plt.rcParams['font.sans-serif']=['simhei']"
   ]
  },
  {
   "cell_type": "code",
   "execution_count": 2,
   "id": "6b3f4cb7",
   "metadata": {},
   "outputs": [],
   "source": [
    "df=pd.read_csv('lagou_data_analysis.csv')"
   ]
  },
  {
   "cell_type": "code",
   "execution_count": 3,
   "id": "bca33bf0",
   "metadata": {},
   "outputs": [],
   "source": [
    "def get_info(data):\n",
    "    print(data.info())\n",
    "    print('\\n')\n",
    "    print(data.head())\n",
    "    print('\\n')\n",
    "    print(data.describe())"
   ]
  },
  {
   "cell_type": "code",
   "execution_count": 4,
   "id": "d792bf19",
   "metadata": {},
   "outputs": [
    {
     "name": "stdout",
     "output_type": "stream",
     "text": [
      "<class 'pandas.core.frame.DataFrame'>\n",
      "RangeIndex: 450 entries, 0 to 449\n",
      "Data columns (total 5 columns):\n",
      " #   Column        Non-Null Count  Dtype \n",
      "---  ------        --------------  ----- \n",
      " 0   name          450 non-null    object\n",
      " 1   salary        450 non-null    object\n",
      " 2   requirement   450 non-null    object\n",
      " 3   company_type  450 non-null    object\n",
      " 4   positon       450 non-null    object\n",
      "dtypes: object(5)\n",
      "memory usage: 17.7+ KB\n",
      "None\n",
      "\n",
      "\n",
      "         name   salary          requirement  \\\n",
      "0       得物App  10k-17k   10k-17k经验1-3年 / 本科   \n",
      "1  Gridsum 国双    6k-8k     6k-8k经验1-3年 / 本科   \n",
      "2         趣头条  25k-45k  25k-45k经验5-10年 / 本科   \n",
      "3        神策数据  15k-25k   15k-25k经验3-5年 / 本科   \n",
      "4         自如网  15k-30k   15k-30k经验3-5年 / 本科   \n",
      "\n",
      "                          company_type              positon  \n",
      "0                  电商平台 / B轮 / 2000人以上        数据分析师[上海·嘉定区]  \n",
      "1  人工智能服务,IT技术服务｜咨询 / 上市公司 / 500-2000人        数据分析师[西安·雁塔区]  \n",
      "2              内容社区 / 上市公司 / 500-2000人       数据分析师[上海·浦东新区]  \n",
      "3             数据服务｜咨询 / C轮 / 500-2000人  数据分析师（金融行业）[上海·静安区]  \n",
      "4                  居住服务 / C轮 / 2000人以上      BI数据分析师[北京·酒仙桥]  \n",
      "\n",
      "\n",
      "        name   salary         requirement                company_type  \\\n",
      "count    450      450                 450                         450   \n",
      "unique   252       83                 165                         215   \n",
      "top     字节跳动  15k-30k  15k-25k经验3-5年 / 本科  内容资讯,短视频 / D轮及以上 / 2000人以上   \n",
      "freq      36       53                  20                          36   \n",
      "\n",
      "              positon  \n",
      "count             450  \n",
      "unique            266  \n",
      "top     数据分析师[北京·海淀区]  \n",
      "freq               34  \n"
     ]
    }
   ],
   "source": [
    "get_info(df)"
   ]
  },
  {
   "cell_type": "code",
   "execution_count": 5,
   "id": "32f40535",
   "metadata": {},
   "outputs": [],
   "source": [
    "#删除k\n",
    "df['salary']=df['salary'].str.replace('k','')\n",
    "#拆分最高和最低薪资\n",
    "df['salary_min']=df['salary'].str.split('-').str[0].astype(int)\n",
    "df['salary_max']=df['salary'].str.split('-').str[1].astype(int)\n",
    "#计算平均的薪资\n",
    "df['salary_average']=(df['salary_max']+df['salary_min'])/2*1000"
   ]
  },
  {
   "cell_type": "code",
   "execution_count": 6,
   "id": "12f6386c",
   "metadata": {},
   "outputs": [
    {
     "data": {
      "text/html": [
       "<div>\n",
       "<style scoped>\n",
       "    .dataframe tbody tr th:only-of-type {\n",
       "        vertical-align: middle;\n",
       "    }\n",
       "\n",
       "    .dataframe tbody tr th {\n",
       "        vertical-align: top;\n",
       "    }\n",
       "\n",
       "    .dataframe thead th {\n",
       "        text-align: right;\n",
       "    }\n",
       "</style>\n",
       "<table border=\"1\" class=\"dataframe\">\n",
       "  <thead>\n",
       "    <tr style=\"text-align: right;\">\n",
       "      <th></th>\n",
       "      <th>name</th>\n",
       "      <th>salary</th>\n",
       "      <th>requirement</th>\n",
       "      <th>company_type</th>\n",
       "      <th>positon</th>\n",
       "      <th>salary_min</th>\n",
       "      <th>salary_max</th>\n",
       "      <th>salary_average</th>\n",
       "    </tr>\n",
       "  </thead>\n",
       "  <tbody>\n",
       "    <tr>\n",
       "      <th>0</th>\n",
       "      <td>得物App</td>\n",
       "      <td>10-17</td>\n",
       "      <td>10k-17k经验1-3年 / 本科</td>\n",
       "      <td>电商平台 / B轮 / 2000人以上</td>\n",
       "      <td>数据分析师[上海·嘉定区]</td>\n",
       "      <td>10</td>\n",
       "      <td>17</td>\n",
       "      <td>13500.0</td>\n",
       "    </tr>\n",
       "    <tr>\n",
       "      <th>1</th>\n",
       "      <td>Gridsum 国双</td>\n",
       "      <td>6-8</td>\n",
       "      <td>6k-8k经验1-3年 / 本科</td>\n",
       "      <td>人工智能服务,IT技术服务｜咨询 / 上市公司 / 500-2000人</td>\n",
       "      <td>数据分析师[西安·雁塔区]</td>\n",
       "      <td>6</td>\n",
       "      <td>8</td>\n",
       "      <td>7000.0</td>\n",
       "    </tr>\n",
       "    <tr>\n",
       "      <th>2</th>\n",
       "      <td>趣头条</td>\n",
       "      <td>25-45</td>\n",
       "      <td>25k-45k经验5-10年 / 本科</td>\n",
       "      <td>内容社区 / 上市公司 / 500-2000人</td>\n",
       "      <td>数据分析师[上海·浦东新区]</td>\n",
       "      <td>25</td>\n",
       "      <td>45</td>\n",
       "      <td>35000.0</td>\n",
       "    </tr>\n",
       "    <tr>\n",
       "      <th>3</th>\n",
       "      <td>神策数据</td>\n",
       "      <td>15-25</td>\n",
       "      <td>15k-25k经验3-5年 / 本科</td>\n",
       "      <td>数据服务｜咨询 / C轮 / 500-2000人</td>\n",
       "      <td>数据分析师（金融行业）[上海·静安区]</td>\n",
       "      <td>15</td>\n",
       "      <td>25</td>\n",
       "      <td>20000.0</td>\n",
       "    </tr>\n",
       "    <tr>\n",
       "      <th>4</th>\n",
       "      <td>自如网</td>\n",
       "      <td>15-30</td>\n",
       "      <td>15k-30k经验3-5年 / 本科</td>\n",
       "      <td>居住服务 / C轮 / 2000人以上</td>\n",
       "      <td>BI数据分析师[北京·酒仙桥]</td>\n",
       "      <td>15</td>\n",
       "      <td>30</td>\n",
       "      <td>22500.0</td>\n",
       "    </tr>\n",
       "  </tbody>\n",
       "</table>\n",
       "</div>"
      ],
      "text/plain": [
       "         name salary          requirement  \\\n",
       "0       得物App  10-17   10k-17k经验1-3年 / 本科   \n",
       "1  Gridsum 国双    6-8     6k-8k经验1-3年 / 本科   \n",
       "2         趣头条  25-45  25k-45k经验5-10年 / 本科   \n",
       "3        神策数据  15-25   15k-25k经验3-5年 / 本科   \n",
       "4         自如网  15-30   15k-30k经验3-5年 / 本科   \n",
       "\n",
       "                          company_type              positon  salary_min  \\\n",
       "0                  电商平台 / B轮 / 2000人以上        数据分析师[上海·嘉定区]          10   \n",
       "1  人工智能服务,IT技术服务｜咨询 / 上市公司 / 500-2000人        数据分析师[西安·雁塔区]           6   \n",
       "2              内容社区 / 上市公司 / 500-2000人       数据分析师[上海·浦东新区]          25   \n",
       "3             数据服务｜咨询 / C轮 / 500-2000人  数据分析师（金融行业）[上海·静安区]          15   \n",
       "4                  居住服务 / C轮 / 2000人以上      BI数据分析师[北京·酒仙桥]          15   \n",
       "\n",
       "   salary_max  salary_average  \n",
       "0          17         13500.0  \n",
       "1           8          7000.0  \n",
       "2          45         35000.0  \n",
       "3          25         20000.0  \n",
       "4          30         22500.0  "
      ]
     },
     "execution_count": 6,
     "metadata": {},
     "output_type": "execute_result"
    }
   ],
   "source": [
    "df.head()"
   ]
  },
  {
   "cell_type": "code",
   "execution_count": 7,
   "id": "7ae70af8",
   "metadata": {},
   "outputs": [
    {
     "data": {
      "text/plain": [
       "'10k-17k经验1-3年 / 本科'"
      ]
     },
     "execution_count": 7,
     "metadata": {},
     "output_type": "execute_result"
    }
   ],
   "source": [
    "df.requirement[0]"
   ]
  },
  {
   "cell_type": "code",
   "execution_count": 8,
   "id": "7851daee",
   "metadata": {},
   "outputs": [],
   "source": [
    "#删除空格\n",
    "df['requirement']=df['requirement'].str.replace(' ','')\n",
    "#拆分，保留后部分\n",
    "df['requirement']=df['requirement'].str.split('经验')\n",
    "df['experience_education']=df['requirement'].str[1]"
   ]
  },
  {
   "cell_type": "code",
   "execution_count": 9,
   "id": "1c2a8462",
   "metadata": {},
   "outputs": [],
   "source": [
    "#第一部分为工作经历要求\n",
    "df['experience']=df['experience_education'].str.split('/').str[0]\n",
    "#df['experience']=df['experience'].str.split('-').str[0]\n",
    "#第二部分为学历要求\n",
    "df['education']=df['experience_education'].str.split('/').str[1]"
   ]
  },
  {
   "cell_type": "code",
   "execution_count": 10,
   "id": "b8893f12",
   "metadata": {},
   "outputs": [
    {
     "data": {
      "text/html": [
       "<div>\n",
       "<style scoped>\n",
       "    .dataframe tbody tr th:only-of-type {\n",
       "        vertical-align: middle;\n",
       "    }\n",
       "\n",
       "    .dataframe tbody tr th {\n",
       "        vertical-align: top;\n",
       "    }\n",
       "\n",
       "    .dataframe thead th {\n",
       "        text-align: right;\n",
       "    }\n",
       "</style>\n",
       "<table border=\"1\" class=\"dataframe\">\n",
       "  <thead>\n",
       "    <tr style=\"text-align: right;\">\n",
       "      <th></th>\n",
       "      <th>name</th>\n",
       "      <th>salary</th>\n",
       "      <th>requirement</th>\n",
       "      <th>company_type</th>\n",
       "      <th>positon</th>\n",
       "      <th>salary_min</th>\n",
       "      <th>salary_max</th>\n",
       "      <th>salary_average</th>\n",
       "      <th>experience_education</th>\n",
       "      <th>experience</th>\n",
       "      <th>education</th>\n",
       "    </tr>\n",
       "  </thead>\n",
       "  <tbody>\n",
       "    <tr>\n",
       "      <th>0</th>\n",
       "      <td>得物App</td>\n",
       "      <td>10-17</td>\n",
       "      <td>[10k-17k, 1-3年/本科]</td>\n",
       "      <td>电商平台 / B轮 / 2000人以上</td>\n",
       "      <td>数据分析师[上海·嘉定区]</td>\n",
       "      <td>10</td>\n",
       "      <td>17</td>\n",
       "      <td>13500.0</td>\n",
       "      <td>1-3年/本科</td>\n",
       "      <td>1-3年</td>\n",
       "      <td>本科</td>\n",
       "    </tr>\n",
       "    <tr>\n",
       "      <th>1</th>\n",
       "      <td>Gridsum 国双</td>\n",
       "      <td>6-8</td>\n",
       "      <td>[6k-8k, 1-3年/本科]</td>\n",
       "      <td>人工智能服务,IT技术服务｜咨询 / 上市公司 / 500-2000人</td>\n",
       "      <td>数据分析师[西安·雁塔区]</td>\n",
       "      <td>6</td>\n",
       "      <td>8</td>\n",
       "      <td>7000.0</td>\n",
       "      <td>1-3年/本科</td>\n",
       "      <td>1-3年</td>\n",
       "      <td>本科</td>\n",
       "    </tr>\n",
       "    <tr>\n",
       "      <th>2</th>\n",
       "      <td>趣头条</td>\n",
       "      <td>25-45</td>\n",
       "      <td>[25k-45k, 5-10年/本科]</td>\n",
       "      <td>内容社区 / 上市公司 / 500-2000人</td>\n",
       "      <td>数据分析师[上海·浦东新区]</td>\n",
       "      <td>25</td>\n",
       "      <td>45</td>\n",
       "      <td>35000.0</td>\n",
       "      <td>5-10年/本科</td>\n",
       "      <td>5-10年</td>\n",
       "      <td>本科</td>\n",
       "    </tr>\n",
       "    <tr>\n",
       "      <th>3</th>\n",
       "      <td>神策数据</td>\n",
       "      <td>15-25</td>\n",
       "      <td>[15k-25k, 3-5年/本科]</td>\n",
       "      <td>数据服务｜咨询 / C轮 / 500-2000人</td>\n",
       "      <td>数据分析师（金融行业）[上海·静安区]</td>\n",
       "      <td>15</td>\n",
       "      <td>25</td>\n",
       "      <td>20000.0</td>\n",
       "      <td>3-5年/本科</td>\n",
       "      <td>3-5年</td>\n",
       "      <td>本科</td>\n",
       "    </tr>\n",
       "    <tr>\n",
       "      <th>4</th>\n",
       "      <td>自如网</td>\n",
       "      <td>15-30</td>\n",
       "      <td>[15k-30k, 3-5年/本科]</td>\n",
       "      <td>居住服务 / C轮 / 2000人以上</td>\n",
       "      <td>BI数据分析师[北京·酒仙桥]</td>\n",
       "      <td>15</td>\n",
       "      <td>30</td>\n",
       "      <td>22500.0</td>\n",
       "      <td>3-5年/本科</td>\n",
       "      <td>3-5年</td>\n",
       "      <td>本科</td>\n",
       "    </tr>\n",
       "  </tbody>\n",
       "</table>\n",
       "</div>"
      ],
      "text/plain": [
       "         name salary          requirement  \\\n",
       "0       得物App  10-17   [10k-17k, 1-3年/本科]   \n",
       "1  Gridsum 国双    6-8     [6k-8k, 1-3年/本科]   \n",
       "2         趣头条  25-45  [25k-45k, 5-10年/本科]   \n",
       "3        神策数据  15-25   [15k-25k, 3-5年/本科]   \n",
       "4         自如网  15-30   [15k-30k, 3-5年/本科]   \n",
       "\n",
       "                          company_type              positon  salary_min  \\\n",
       "0                  电商平台 / B轮 / 2000人以上        数据分析师[上海·嘉定区]          10   \n",
       "1  人工智能服务,IT技术服务｜咨询 / 上市公司 / 500-2000人        数据分析师[西安·雁塔区]           6   \n",
       "2              内容社区 / 上市公司 / 500-2000人       数据分析师[上海·浦东新区]          25   \n",
       "3             数据服务｜咨询 / C轮 / 500-2000人  数据分析师（金融行业）[上海·静安区]          15   \n",
       "4                  居住服务 / C轮 / 2000人以上      BI数据分析师[北京·酒仙桥]          15   \n",
       "\n",
       "   salary_max  salary_average experience_education experience education  \n",
       "0          17         13500.0              1-3年/本科       1-3年        本科  \n",
       "1           8          7000.0              1-3年/本科       1-3年        本科  \n",
       "2          45         35000.0             5-10年/本科      5-10年        本科  \n",
       "3          25         20000.0              3-5年/本科       3-5年        本科  \n",
       "4          30         22500.0              3-5年/本科       3-5年        本科  "
      ]
     },
     "execution_count": 10,
     "metadata": {},
     "output_type": "execute_result"
    }
   ],
   "source": [
    "df.head()"
   ]
  },
  {
   "cell_type": "code",
   "execution_count": 11,
   "id": "2871e532",
   "metadata": {},
   "outputs": [
    {
     "name": "stderr",
     "output_type": "stream",
     "text": [
      "C:\\Users\\zou\\AppData\\Local\\Temp/ipykernel_21944/3827911193.py:2: FutureWarning: The default value of regex will change from True to False in a future version. In addition, single character regular expressions will *not* be treated as literal strings when regex=True.\n",
      "  df['city_area']=df['positon'].str.split('[').str[1].str.replace(']','')\n"
     ]
    }
   ],
   "source": [
    "#拆分出position中的职业和工作城市\n",
    "df['city_area']=df['positon'].str.split('[').str[1].str.replace(']','')\n",
    "df['positon']=df['positon'].str.split('[').str[0]\n",
    "df['city']=df['city_area'].str.split('·').str[0]"
   ]
  },
  {
   "cell_type": "code",
   "execution_count": 12,
   "id": "85df115a",
   "metadata": {},
   "outputs": [
    {
     "data": {
      "text/html": [
       "<div>\n",
       "<style scoped>\n",
       "    .dataframe tbody tr th:only-of-type {\n",
       "        vertical-align: middle;\n",
       "    }\n",
       "\n",
       "    .dataframe tbody tr th {\n",
       "        vertical-align: top;\n",
       "    }\n",
       "\n",
       "    .dataframe thead th {\n",
       "        text-align: right;\n",
       "    }\n",
       "</style>\n",
       "<table border=\"1\" class=\"dataframe\">\n",
       "  <thead>\n",
       "    <tr style=\"text-align: right;\">\n",
       "      <th></th>\n",
       "      <th>name</th>\n",
       "      <th>salary</th>\n",
       "      <th>requirement</th>\n",
       "      <th>company_type</th>\n",
       "      <th>positon</th>\n",
       "      <th>salary_min</th>\n",
       "      <th>salary_max</th>\n",
       "      <th>salary_average</th>\n",
       "      <th>experience_education</th>\n",
       "      <th>experience</th>\n",
       "      <th>education</th>\n",
       "      <th>city_area</th>\n",
       "      <th>city</th>\n",
       "    </tr>\n",
       "  </thead>\n",
       "  <tbody>\n",
       "    <tr>\n",
       "      <th>0</th>\n",
       "      <td>得物App</td>\n",
       "      <td>10-17</td>\n",
       "      <td>[10k-17k, 1-3年/本科]</td>\n",
       "      <td>电商平台 / B轮 / 2000人以上</td>\n",
       "      <td>数据分析师</td>\n",
       "      <td>10</td>\n",
       "      <td>17</td>\n",
       "      <td>13500.0</td>\n",
       "      <td>1-3年/本科</td>\n",
       "      <td>1-3年</td>\n",
       "      <td>本科</td>\n",
       "      <td>上海·嘉定区</td>\n",
       "      <td>上海</td>\n",
       "    </tr>\n",
       "    <tr>\n",
       "      <th>1</th>\n",
       "      <td>Gridsum 国双</td>\n",
       "      <td>6-8</td>\n",
       "      <td>[6k-8k, 1-3年/本科]</td>\n",
       "      <td>人工智能服务,IT技术服务｜咨询 / 上市公司 / 500-2000人</td>\n",
       "      <td>数据分析师</td>\n",
       "      <td>6</td>\n",
       "      <td>8</td>\n",
       "      <td>7000.0</td>\n",
       "      <td>1-3年/本科</td>\n",
       "      <td>1-3年</td>\n",
       "      <td>本科</td>\n",
       "      <td>西安·雁塔区</td>\n",
       "      <td>西安</td>\n",
       "    </tr>\n",
       "    <tr>\n",
       "      <th>2</th>\n",
       "      <td>趣头条</td>\n",
       "      <td>25-45</td>\n",
       "      <td>[25k-45k, 5-10年/本科]</td>\n",
       "      <td>内容社区 / 上市公司 / 500-2000人</td>\n",
       "      <td>数据分析师</td>\n",
       "      <td>25</td>\n",
       "      <td>45</td>\n",
       "      <td>35000.0</td>\n",
       "      <td>5-10年/本科</td>\n",
       "      <td>5-10年</td>\n",
       "      <td>本科</td>\n",
       "      <td>上海·浦东新区</td>\n",
       "      <td>上海</td>\n",
       "    </tr>\n",
       "    <tr>\n",
       "      <th>3</th>\n",
       "      <td>神策数据</td>\n",
       "      <td>15-25</td>\n",
       "      <td>[15k-25k, 3-5年/本科]</td>\n",
       "      <td>数据服务｜咨询 / C轮 / 500-2000人</td>\n",
       "      <td>数据分析师（金融行业）</td>\n",
       "      <td>15</td>\n",
       "      <td>25</td>\n",
       "      <td>20000.0</td>\n",
       "      <td>3-5年/本科</td>\n",
       "      <td>3-5年</td>\n",
       "      <td>本科</td>\n",
       "      <td>上海·静安区</td>\n",
       "      <td>上海</td>\n",
       "    </tr>\n",
       "    <tr>\n",
       "      <th>4</th>\n",
       "      <td>自如网</td>\n",
       "      <td>15-30</td>\n",
       "      <td>[15k-30k, 3-5年/本科]</td>\n",
       "      <td>居住服务 / C轮 / 2000人以上</td>\n",
       "      <td>BI数据分析师</td>\n",
       "      <td>15</td>\n",
       "      <td>30</td>\n",
       "      <td>22500.0</td>\n",
       "      <td>3-5年/本科</td>\n",
       "      <td>3-5年</td>\n",
       "      <td>本科</td>\n",
       "      <td>北京·酒仙桥</td>\n",
       "      <td>北京</td>\n",
       "    </tr>\n",
       "  </tbody>\n",
       "</table>\n",
       "</div>"
      ],
      "text/plain": [
       "         name salary          requirement  \\\n",
       "0       得物App  10-17   [10k-17k, 1-3年/本科]   \n",
       "1  Gridsum 国双    6-8     [6k-8k, 1-3年/本科]   \n",
       "2         趣头条  25-45  [25k-45k, 5-10年/本科]   \n",
       "3        神策数据  15-25   [15k-25k, 3-5年/本科]   \n",
       "4         自如网  15-30   [15k-30k, 3-5年/本科]   \n",
       "\n",
       "                          company_type      positon  salary_min  salary_max  \\\n",
       "0                  电商平台 / B轮 / 2000人以上        数据分析师          10          17   \n",
       "1  人工智能服务,IT技术服务｜咨询 / 上市公司 / 500-2000人        数据分析师           6           8   \n",
       "2              内容社区 / 上市公司 / 500-2000人        数据分析师          25          45   \n",
       "3             数据服务｜咨询 / C轮 / 500-2000人  数据分析师（金融行业）          15          25   \n",
       "4                  居住服务 / C轮 / 2000人以上      BI数据分析师          15          30   \n",
       "\n",
       "   salary_average experience_education experience education city_area city  \n",
       "0         13500.0              1-3年/本科       1-3年        本科    上海·嘉定区   上海  \n",
       "1          7000.0              1-3年/本科       1-3年        本科    西安·雁塔区   西安  \n",
       "2         35000.0             5-10年/本科      5-10年        本科   上海·浦东新区   上海  \n",
       "3         20000.0              3-5年/本科       3-5年        本科    上海·静安区   上海  \n",
       "4         22500.0              3-5年/本科       3-5年        本科    北京·酒仙桥   北京  "
      ]
     },
     "execution_count": 12,
     "metadata": {},
     "output_type": "execute_result"
    }
   ],
   "source": [
    "df.head()"
   ]
  },
  {
   "cell_type": "code",
   "execution_count": 13,
   "id": "16e59157",
   "metadata": {},
   "outputs": [],
   "source": [
    "#拆分出company_type中的公司行业，融资规模，和员工数量\n",
    "df['company_industry']=df['company_type'].str.split('/').str[0]\n",
    "df['company_financing']=df['company_type'].str.split('/').str[1]\n",
    "df['employees_number']=df['company_type'].str.split('/').str[2]"
   ]
  },
  {
   "cell_type": "code",
   "execution_count": 14,
   "id": "56db7a74",
   "metadata": {},
   "outputs": [
    {
     "data": {
      "text/html": [
       "<div>\n",
       "<style scoped>\n",
       "    .dataframe tbody tr th:only-of-type {\n",
       "        vertical-align: middle;\n",
       "    }\n",
       "\n",
       "    .dataframe tbody tr th {\n",
       "        vertical-align: top;\n",
       "    }\n",
       "\n",
       "    .dataframe thead th {\n",
       "        text-align: right;\n",
       "    }\n",
       "</style>\n",
       "<table border=\"1\" class=\"dataframe\">\n",
       "  <thead>\n",
       "    <tr style=\"text-align: right;\">\n",
       "      <th></th>\n",
       "      <th>name</th>\n",
       "      <th>salary</th>\n",
       "      <th>requirement</th>\n",
       "      <th>company_type</th>\n",
       "      <th>positon</th>\n",
       "      <th>salary_min</th>\n",
       "      <th>salary_max</th>\n",
       "      <th>salary_average</th>\n",
       "      <th>experience_education</th>\n",
       "      <th>experience</th>\n",
       "      <th>education</th>\n",
       "      <th>city_area</th>\n",
       "      <th>city</th>\n",
       "      <th>company_industry</th>\n",
       "      <th>company_financing</th>\n",
       "      <th>employees_number</th>\n",
       "    </tr>\n",
       "  </thead>\n",
       "  <tbody>\n",
       "    <tr>\n",
       "      <th>0</th>\n",
       "      <td>得物App</td>\n",
       "      <td>10-17</td>\n",
       "      <td>[10k-17k, 1-3年/本科]</td>\n",
       "      <td>电商平台 / B轮 / 2000人以上</td>\n",
       "      <td>数据分析师</td>\n",
       "      <td>10</td>\n",
       "      <td>17</td>\n",
       "      <td>13500.0</td>\n",
       "      <td>1-3年/本科</td>\n",
       "      <td>1-3年</td>\n",
       "      <td>本科</td>\n",
       "      <td>上海·嘉定区</td>\n",
       "      <td>上海</td>\n",
       "      <td>电商平台</td>\n",
       "      <td>B轮</td>\n",
       "      <td>2000人以上</td>\n",
       "    </tr>\n",
       "    <tr>\n",
       "      <th>1</th>\n",
       "      <td>Gridsum 国双</td>\n",
       "      <td>6-8</td>\n",
       "      <td>[6k-8k, 1-3年/本科]</td>\n",
       "      <td>人工智能服务,IT技术服务｜咨询 / 上市公司 / 500-2000人</td>\n",
       "      <td>数据分析师</td>\n",
       "      <td>6</td>\n",
       "      <td>8</td>\n",
       "      <td>7000.0</td>\n",
       "      <td>1-3年/本科</td>\n",
       "      <td>1-3年</td>\n",
       "      <td>本科</td>\n",
       "      <td>西安·雁塔区</td>\n",
       "      <td>西安</td>\n",
       "      <td>人工智能服务,IT技术服务｜咨询</td>\n",
       "      <td>上市公司</td>\n",
       "      <td>500-2000人</td>\n",
       "    </tr>\n",
       "    <tr>\n",
       "      <th>2</th>\n",
       "      <td>趣头条</td>\n",
       "      <td>25-45</td>\n",
       "      <td>[25k-45k, 5-10年/本科]</td>\n",
       "      <td>内容社区 / 上市公司 / 500-2000人</td>\n",
       "      <td>数据分析师</td>\n",
       "      <td>25</td>\n",
       "      <td>45</td>\n",
       "      <td>35000.0</td>\n",
       "      <td>5-10年/本科</td>\n",
       "      <td>5-10年</td>\n",
       "      <td>本科</td>\n",
       "      <td>上海·浦东新区</td>\n",
       "      <td>上海</td>\n",
       "      <td>内容社区</td>\n",
       "      <td>上市公司</td>\n",
       "      <td>500-2000人</td>\n",
       "    </tr>\n",
       "    <tr>\n",
       "      <th>3</th>\n",
       "      <td>神策数据</td>\n",
       "      <td>15-25</td>\n",
       "      <td>[15k-25k, 3-5年/本科]</td>\n",
       "      <td>数据服务｜咨询 / C轮 / 500-2000人</td>\n",
       "      <td>数据分析师（金融行业）</td>\n",
       "      <td>15</td>\n",
       "      <td>25</td>\n",
       "      <td>20000.0</td>\n",
       "      <td>3-5年/本科</td>\n",
       "      <td>3-5年</td>\n",
       "      <td>本科</td>\n",
       "      <td>上海·静安区</td>\n",
       "      <td>上海</td>\n",
       "      <td>数据服务｜咨询</td>\n",
       "      <td>C轮</td>\n",
       "      <td>500-2000人</td>\n",
       "    </tr>\n",
       "    <tr>\n",
       "      <th>4</th>\n",
       "      <td>自如网</td>\n",
       "      <td>15-30</td>\n",
       "      <td>[15k-30k, 3-5年/本科]</td>\n",
       "      <td>居住服务 / C轮 / 2000人以上</td>\n",
       "      <td>BI数据分析师</td>\n",
       "      <td>15</td>\n",
       "      <td>30</td>\n",
       "      <td>22500.0</td>\n",
       "      <td>3-5年/本科</td>\n",
       "      <td>3-5年</td>\n",
       "      <td>本科</td>\n",
       "      <td>北京·酒仙桥</td>\n",
       "      <td>北京</td>\n",
       "      <td>居住服务</td>\n",
       "      <td>C轮</td>\n",
       "      <td>2000人以上</td>\n",
       "    </tr>\n",
       "  </tbody>\n",
       "</table>\n",
       "</div>"
      ],
      "text/plain": [
       "         name salary          requirement  \\\n",
       "0       得物App  10-17   [10k-17k, 1-3年/本科]   \n",
       "1  Gridsum 国双    6-8     [6k-8k, 1-3年/本科]   \n",
       "2         趣头条  25-45  [25k-45k, 5-10年/本科]   \n",
       "3        神策数据  15-25   [15k-25k, 3-5年/本科]   \n",
       "4         自如网  15-30   [15k-30k, 3-5年/本科]   \n",
       "\n",
       "                          company_type      positon  salary_min  salary_max  \\\n",
       "0                  电商平台 / B轮 / 2000人以上        数据分析师          10          17   \n",
       "1  人工智能服务,IT技术服务｜咨询 / 上市公司 / 500-2000人        数据分析师           6           8   \n",
       "2              内容社区 / 上市公司 / 500-2000人        数据分析师          25          45   \n",
       "3             数据服务｜咨询 / C轮 / 500-2000人  数据分析师（金融行业）          15          25   \n",
       "4                  居住服务 / C轮 / 2000人以上      BI数据分析师          15          30   \n",
       "\n",
       "   salary_average experience_education experience education city_area city  \\\n",
       "0         13500.0              1-3年/本科       1-3年        本科    上海·嘉定区   上海   \n",
       "1          7000.0              1-3年/本科       1-3年        本科    西安·雁塔区   西安   \n",
       "2         35000.0             5-10年/本科      5-10年        本科   上海·浦东新区   上海   \n",
       "3         20000.0              3-5年/本科       3-5年        本科    上海·静安区   上海   \n",
       "4         22500.0              3-5年/本科       3-5年        本科    北京·酒仙桥   北京   \n",
       "\n",
       "    company_industry company_financing employees_number  \n",
       "0              电商平台                B轮           2000人以上  \n",
       "1  人工智能服务,IT技术服务｜咨询              上市公司         500-2000人  \n",
       "2              内容社区              上市公司         500-2000人  \n",
       "3           数据服务｜咨询                C轮         500-2000人  \n",
       "4              居住服务                C轮           2000人以上  "
      ]
     },
     "execution_count": 14,
     "metadata": {},
     "output_type": "execute_result"
    }
   ],
   "source": [
    "df.head()"
   ]
  },
  {
   "cell_type": "code",
   "execution_count": 15,
   "id": "c48f26a0",
   "metadata": {},
   "outputs": [],
   "source": [
    "#删除多余的列变量\n",
    "df.drop(columns=['salary','requirement','company_type','salary_min','salary_max','experience_education','city_area'],inplace=True)"
   ]
  },
  {
   "cell_type": "code",
   "execution_count": 16,
   "id": "62c17ad4",
   "metadata": {
    "scrolled": true
   },
   "outputs": [
    {
     "data": {
      "text/html": [
       "<div>\n",
       "<style scoped>\n",
       "    .dataframe tbody tr th:only-of-type {\n",
       "        vertical-align: middle;\n",
       "    }\n",
       "\n",
       "    .dataframe tbody tr th {\n",
       "        vertical-align: top;\n",
       "    }\n",
       "\n",
       "    .dataframe thead th {\n",
       "        text-align: right;\n",
       "    }\n",
       "</style>\n",
       "<table border=\"1\" class=\"dataframe\">\n",
       "  <thead>\n",
       "    <tr style=\"text-align: right;\">\n",
       "      <th></th>\n",
       "      <th>name</th>\n",
       "      <th>positon</th>\n",
       "      <th>salary_average</th>\n",
       "      <th>experience</th>\n",
       "      <th>education</th>\n",
       "      <th>city</th>\n",
       "      <th>company_industry</th>\n",
       "      <th>company_financing</th>\n",
       "      <th>employees_number</th>\n",
       "    </tr>\n",
       "  </thead>\n",
       "  <tbody>\n",
       "    <tr>\n",
       "      <th>0</th>\n",
       "      <td>得物App</td>\n",
       "      <td>数据分析师</td>\n",
       "      <td>13500.0</td>\n",
       "      <td>1-3年</td>\n",
       "      <td>本科</td>\n",
       "      <td>上海</td>\n",
       "      <td>电商平台</td>\n",
       "      <td>B轮</td>\n",
       "      <td>2000人以上</td>\n",
       "    </tr>\n",
       "    <tr>\n",
       "      <th>1</th>\n",
       "      <td>Gridsum 国双</td>\n",
       "      <td>数据分析师</td>\n",
       "      <td>7000.0</td>\n",
       "      <td>1-3年</td>\n",
       "      <td>本科</td>\n",
       "      <td>西安</td>\n",
       "      <td>人工智能服务,IT技术服务｜咨询</td>\n",
       "      <td>上市公司</td>\n",
       "      <td>500-2000人</td>\n",
       "    </tr>\n",
       "    <tr>\n",
       "      <th>2</th>\n",
       "      <td>趣头条</td>\n",
       "      <td>数据分析师</td>\n",
       "      <td>35000.0</td>\n",
       "      <td>5-10年</td>\n",
       "      <td>本科</td>\n",
       "      <td>上海</td>\n",
       "      <td>内容社区</td>\n",
       "      <td>上市公司</td>\n",
       "      <td>500-2000人</td>\n",
       "    </tr>\n",
       "    <tr>\n",
       "      <th>3</th>\n",
       "      <td>神策数据</td>\n",
       "      <td>数据分析师（金融行业）</td>\n",
       "      <td>20000.0</td>\n",
       "      <td>3-5年</td>\n",
       "      <td>本科</td>\n",
       "      <td>上海</td>\n",
       "      <td>数据服务｜咨询</td>\n",
       "      <td>C轮</td>\n",
       "      <td>500-2000人</td>\n",
       "    </tr>\n",
       "    <tr>\n",
       "      <th>4</th>\n",
       "      <td>自如网</td>\n",
       "      <td>BI数据分析师</td>\n",
       "      <td>22500.0</td>\n",
       "      <td>3-5年</td>\n",
       "      <td>本科</td>\n",
       "      <td>北京</td>\n",
       "      <td>居住服务</td>\n",
       "      <td>C轮</td>\n",
       "      <td>2000人以上</td>\n",
       "    </tr>\n",
       "  </tbody>\n",
       "</table>\n",
       "</div>"
      ],
      "text/plain": [
       "         name      positon  salary_average experience education city  \\\n",
       "0       得物App        数据分析师         13500.0       1-3年        本科   上海   \n",
       "1  Gridsum 国双        数据分析师          7000.0       1-3年        本科   西安   \n",
       "2         趣头条        数据分析师         35000.0      5-10年        本科   上海   \n",
       "3        神策数据  数据分析师（金融行业）         20000.0       3-5年        本科   上海   \n",
       "4         自如网      BI数据分析师         22500.0       3-5年        本科   北京   \n",
       "\n",
       "    company_industry company_financing employees_number  \n",
       "0              电商平台                B轮           2000人以上  \n",
       "1  人工智能服务,IT技术服务｜咨询              上市公司         500-2000人  \n",
       "2              内容社区              上市公司         500-2000人  \n",
       "3           数据服务｜咨询                C轮         500-2000人  \n",
       "4              居住服务                C轮           2000人以上  "
      ]
     },
     "execution_count": 16,
     "metadata": {},
     "output_type": "execute_result"
    }
   ],
   "source": [
    "df.head()"
   ]
  },
  {
   "cell_type": "code",
   "execution_count": 17,
   "id": "a673dbc5",
   "metadata": {},
   "outputs": [
    {
     "name": "stdout",
     "output_type": "stream",
     "text": [
      "<class 'pandas.core.frame.DataFrame'>\n",
      "RangeIndex: 450 entries, 0 to 449\n",
      "Data columns (total 9 columns):\n",
      " #   Column             Non-Null Count  Dtype  \n",
      "---  ------             --------------  -----  \n",
      " 0   name               450 non-null    object \n",
      " 1   positon            450 non-null    object \n",
      " 2   salary_average     450 non-null    float64\n",
      " 3   experience         450 non-null    object \n",
      " 4   education          450 non-null    object \n",
      " 5   city               450 non-null    object \n",
      " 6   company_industry   450 non-null    object \n",
      " 7   company_financing  450 non-null    object \n",
      " 8   employees_number   450 non-null    object \n",
      "dtypes: float64(1), object(8)\n",
      "memory usage: 31.8+ KB\n",
      "None\n",
      "\n",
      "\n",
      "         name      positon  salary_average experience education city  \\\n",
      "0       得物App        数据分析师         13500.0       1-3年        本科   上海   \n",
      "1  Gridsum 国双        数据分析师          7000.0       1-3年        本科   西安   \n",
      "2         趣头条        数据分析师         35000.0      5-10年        本科   上海   \n",
      "3        神策数据  数据分析师（金融行业）         20000.0       3-5年        本科   上海   \n",
      "4         自如网      BI数据分析师         22500.0       3-5年        本科   北京   \n",
      "\n",
      "    company_industry company_financing employees_number  \n",
      "0              电商平台                B轮           2000人以上  \n",
      "1  人工智能服务,IT技术服务｜咨询              上市公司         500-2000人  \n",
      "2              内容社区              上市公司         500-2000人  \n",
      "3           数据服务｜咨询                C轮         500-2000人  \n",
      "4              居住服务                C轮           2000人以上  \n",
      "\n",
      "\n",
      "       salary_average\n",
      "count      450.000000\n",
      "mean     22957.777778\n",
      "std       9887.980350\n",
      "min       2500.000000\n",
      "25%      15500.000000\n",
      "50%      22500.000000\n",
      "75%      30000.000000\n",
      "max      80000.000000\n"
     ]
    }
   ],
   "source": [
    "#查看数据是否有异常\n",
    "get_info(df)"
   ]
  },
  {
   "cell_type": "code",
   "execution_count": 18,
   "id": "2b42a5a1",
   "metadata": {},
   "outputs": [
    {
     "data": {
      "text/plain": [
       "<AxesSubplot:>"
      ]
     },
     "execution_count": 18,
     "metadata": {},
     "output_type": "execute_result"
    },
    {
     "data": {
      "image/png": "[encoded data removed]",
      "text/plain": [
       "<Figure size 432x288 with 1 Axes>"
      ]
     },
     "metadata": {
      "needs_background": "light"
     },
     "output_type": "display_data"
    }
   ],
   "source": [
    "df['experience'].value_counts().plot(kind='bar')"
   ]
  },
  {
   "cell_type": "markdown",
   "id": "09d8c12a",
   "metadata": {},
   "source": [
    "### 薪资的主要分布"
   ]
  },
  {
   "cell_type": "code",
   "execution_count": 38,
   "id": "5e53c36f",
   "metadata": {},
   "outputs": [
    {
     "data": {
      "text/plain": [
       "<AxesSubplot:xlabel='salary_average', ylabel='Density'>"
      ]
     },
     "execution_count": 38,
     "metadata": {},
     "output_type": "execute_result"
    },
    {
     "name": "stderr",
     "output_type": "stream",
     "text": [
      "E:\\anaconda\\lib\\site-packages\\matplotlib\\backends\\backend_agg.py:240: RuntimeWarning: Glyph 8722 missing from current font.\n",
      "  font.set_text(s, 0.0, flags=flags)\n",
      "E:\\anaconda\\lib\\site-packages\\matplotlib\\backends\\backend_agg.py:203: RuntimeWarning: Glyph 8722 missing from current font.\n",
      "  font.set_text(s, 0, flags=flags)\n"
     ]
    },
    {
     "data": {
      "image/png": "[encoded data removed]",
      "text/plain": [
       "<Figure size 432x288 with 1 Axes>"
      ]
     },
     "metadata": {
      "needs_background": "light"
     },
     "output_type": "display_data"
    }
   ],
   "source": [
    "sns.distplot(df['salary_average'])"
   ]
  },
  {
   "cell_type": "markdown",
   "id": "976ea3df",
   "metadata": {},
   "source": [
    "#### 从业人员每月工资大概在20000左右"
   ]
  },
  {
   "cell_type": "markdown",
   "id": "89f60f11",
   "metadata": {},
   "source": [
    "### 经验和薪资的关系"
   ]
  },
  {
   "cell_type": "code",
   "execution_count": 23,
   "id": "b3377f01",
   "metadata": {},
   "outputs": [
    {
     "data": {
      "text/plain": [
       "<AxesSubplot:xlabel='experience', ylabel='salary_average'>"
      ]
     },
     "execution_count": 23,
     "metadata": {},
     "output_type": "execute_result"
    },
    {
     "data": {
      "image/png": "[encoded data removed]",
      "text/plain": [
       "<Figure size 432x288 with 1 Axes>"
      ]
     },
     "metadata": {
      "needs_background": "light"
     },
     "output_type": "display_data"
    }
   ],
   "source": [
    "sns.boxplot(x='experience',y='salary_average',data=df)"
   ]
  },
  {
   "cell_type": "code",
   "execution_count": 45,
   "id": "752f8c86",
   "metadata": {},
   "outputs": [
    {
     "data": {
      "text/plain": [
       "<AxesSubplot:xlabel='experience', ylabel='salary_average'>"
      ]
     },
     "execution_count": 45,
     "metadata": {},
     "output_type": "execute_result"
    },
    {
     "data": {
      "image/png": "[encoded data removed]",
      "text/plain": [
       "<Figure size 432x288 with 1 Axes>"
      ]
     },
     "metadata": {
      "needs_background": "light"
     },
     "output_type": "display_data"
    }
   ],
   "source": [
    "sns.barplot(x='experience',y='salary_average',data=df,palette=sns.color_palette(\"husl\",8),\n",
    "                                                                               order=df.groupby('experience').salary_average.mean().sort_values(ascending=False).index)"
   ]
  },
  {
   "cell_type": "markdown",
   "id": "d30bb29b",
   "metadata": {},
   "source": [
    "#### 经验越多，薪资越高"
   ]
  },
  {
   "cell_type": "markdown",
   "id": "276ca4ce",
   "metadata": {},
   "source": [
    "### 学历和薪资的关系"
   ]
  },
  {
   "cell_type": "code",
   "execution_count": 39,
   "id": "3a2b6eb3",
   "metadata": {},
   "outputs": [
    {
     "data": {
      "text/plain": [
       "<seaborn.axisgrid.FacetGrid at 0x2a615f996a0>"
      ]
     },
     "execution_count": 39,
     "metadata": {},
     "output_type": "execute_result"
    },
    {
     "data": {
      "text/plain": [
       "<Figure size 14400x14400 with 0 Axes>"
      ]
     },
     "metadata": {},
     "output_type": "display_data"
    },
    {
     "data": {
      "image/png": "[encoded data removed]",
      "text/plain": [
       "<Figure size 360x360 with 1 Axes>"
      ]
     },
     "metadata": {
      "needs_background": "light"
     },
     "output_type": "display_data"
    }
   ],
   "source": [
    "plt.figure(figsize=(200,200))\n",
    "sns.relplot(x='education',y='salary_average',kind='line',data=df)"
   ]
  },
  {
   "cell_type": "code",
   "execution_count": 25,
   "id": "7a8baf48",
   "metadata": {},
   "outputs": [
    {
     "data": {
      "text/plain": [
       "<AxesSubplot:xlabel='education', ylabel='salary_average'>"
      ]
     },
     "execution_count": 25,
     "metadata": {},
     "output_type": "execute_result"
    },
    {
     "data": {
      "image/png": "[encoded data removed]",
      "text/plain": [
       "<Figure size 432x288 with 1 Axes>"
      ]
     },
     "metadata": {
      "needs_background": "light"
     },
     "output_type": "display_data"
    }
   ],
   "source": [
    "sns.boxplot(x='education',y='salary_average',data=df)"
   ]
  },
  {
   "cell_type": "markdown",
   "id": "00156e6f",
   "metadata": {},
   "source": [
    "#### 应届生薪资比较低"
   ]
  },
  {
   "cell_type": "markdown",
   "id": "7099f91f",
   "metadata": {},
   "source": [
    "### "
   ]
  },
  {
   "cell_type": "markdown",
   "id": "1c3a3f07",
   "metadata": {},
   "source": [
    "### 学历和工作经验的关系"
   ]
  },
  {
   "cell_type": "code",
   "execution_count": 28,
   "id": "5b0bf6a3",
   "metadata": {},
   "outputs": [
    {
     "data": {
      "text/plain": [
       "<AxesSubplot:xlabel='education,experience'>"
      ]
     },
     "execution_count": 28,
     "metadata": {},
     "output_type": "execute_result"
    },
    {
     "data": {
      "image/png": "[encoded data removed]",
      "text/plain": [
       "<Figure size 432x288 with 1 Axes>"
      ]
     },
     "metadata": {
      "needs_background": "light"
     },
     "output_type": "display_data"
    }
   ],
   "source": [
    "df.groupby('education')['experience'].value_counts().plot(kind='bar')"
   ]
  },
  {
   "cell_type": "markdown",
   "id": "0585b00d",
   "metadata": {},
   "source": [
    "#### 招聘要求，大部分要求本科及3-5年工作经验"
   ]
  },
  {
   "cell_type": "markdown",
   "id": "cc4e3890",
   "metadata": {},
   "source": [
    "### 公司融资规模和薪资的关系"
   ]
  },
  {
   "cell_type": "code",
   "execution_count": 33,
   "id": "9525a3e3",
   "metadata": {},
   "outputs": [
    {
     "data": {
      "text/plain": [
       "<AxesSubplot:xlabel='company_financing'>"
      ]
     },
     "execution_count": 33,
     "metadata": {},
     "output_type": "execute_result"
    },
    {
     "data": {
      "image/png": "[encoded data removed]",
      "text/plain": [
       "<Figure size 432x288 with 1 Axes>"
      ]
     },
     "metadata": {
      "needs_background": "light"
     },
     "output_type": "display_data"
    }
   ],
   "source": [
    "df.groupby('company_financing')['salary_average'].mean().plot(kind='bar')"
   ]
  },
  {
   "cell_type": "markdown",
   "id": "e8293a64",
   "metadata": {},
   "source": [
    "#### D轮及以上的公司薪资高"
   ]
  },
  {
   "cell_type": "code",
   "execution_count": 34,
   "id": "8bad7482",
   "metadata": {},
   "outputs": [
    {
     "data": {
      "text/plain": [
       "<AxesSubplot:xlabel='employees_number'>"
      ]
     },
     "execution_count": 34,
     "metadata": {},
     "output_type": "execute_result"
    },
    {
     "data": {
      "image/png": "[encoded data removed]",
      "text/plain": [
       "<Figure size 432x288 with 1 Axes>"
      ]
     },
     "metadata": {
      "needs_background": "light"
     },
     "output_type": "display_data"
    }
   ],
   "source": [
    "df.groupby('employees_number')['salary_average'].mean().plot(kind='bar')"
   ]
  },
  {
   "cell_type": "markdown",
   "id": "c0de050e",
   "metadata": {},
   "source": [
    "#### 2000人以上的公司对该岗位需求大"
   ]
  },
  {
   "cell_type": "code",
   "execution_count": null,
   "id": "7bfafb6e",
   "metadata": {},
   "outputs": [],
   "source": []
  }
 ],
 "metadata": {
  "kernelspec": {
   "display_name": "Python 3 (ipykernel)",
   "language": "python",
   "name": "python3"
  },
  "language_info": {
   "codemirror_mode": {
    "name": "ipython",
    "version": 3
   },
   "file_extension": ".py",
   "mimetype": "text/x-python",
   "name": "python",
   "nbconvert_exporter": "python",
   "pygments_lexer": "ipython3",
   "version": "3.9.7"
  }
 },
 "nbformat": 4,
 "nbformat_minor": 5
}
